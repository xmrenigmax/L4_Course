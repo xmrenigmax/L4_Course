{
 "cells": [
  {
   "cell_type": "markdown",
   "metadata": {},
   "source": [
    "# import"
   ]
  },
  {
   "cell_type": "code",
   "execution_count": 11,
   "metadata": {},
   "outputs": [],
   "source": [
    "import math\n",
    "import sympy as sp\n",
    "import numpy as np"
   ]
  },
  {
   "cell_type": "markdown",
   "metadata": {},
   "source": [
    "Task A\n",
    "columns in the next two matrices A, B indicate the position of objects in a VR simulation \n",
    "\n",
    "A = [1, 0, 0, 1,2,1] b = [1, -2, 0, -7, 0, 5]\n",
    "\n",
    "1. which matrix contains 2 points in 3D\n",
    "2. compue 2* A + B^T\n",
    "3. can we computer A - (J^2 * A) + B"
   ]
  },
  {
   "cell_type": "code",
   "execution_count": 12,
   "metadata": {},
   "outputs": [
    {
     "name": "stdout",
     "output_type": "stream",
     "text": [
      "question2: \n",
      "\n",
      "⎡3   -5⎤\n",
      "⎢      ⎥\n",
      "⎢-2  4 ⎥\n",
      "⎢      ⎥\n",
      "⎣0   7 ⎦\n"
     ]
    }
   ],
   "source": [
    "A = [[1,1],\n",
    "     [0,2],\n",
    "     [0,1]]\n",
    "\n",
    "BT = [[1,-7],\n",
    "     [-2,0],\n",
    "     [0,5]]\n",
    "\n",
    "b = np.array([[1,-2,0], [-7,0,5]])\n",
    "     \n",
    "resultq2 = 2*sp.Matrix(A) + sp.Matrix(BT)\n",
    "\n",
    "# q1)\n",
    "# a = 3D with two points\n",
    "# b = 2D with three points\n",
    "\n",
    "# q2)\n",
    "print(\"question2: \\n\")\n",
    "sp.pprint(resultq2)\n",
    "\n",
    "#q3)\n",
    "#resultq3 = sp.Matrix(A) - (sp.Matrix(A)**2) + b\n",
    "#print(\"question3: \\n\")\n",
    "#sp.pprint(resultq3)"
   ]
  },
  {
   "cell_type": "markdown",
   "metadata": {},
   "source": [
    "# Task 2\n",
    "We have developed a recursive algorithm to learn the value of the parameters of a model\n",
    "\n",
    "A = A + tr(2*B^T+ C)*I \"2 x 2\"\n",
    "\n",
    "where A = [[0,0],\n",
    "           [0,0]]\n",
    "1) how much are we updating these parametres after the first iteration and after 2 iterations\n"
   ]
  },
  {
   "cell_type": "code",
   "execution_count": 13,
   "metadata": {},
   "outputs": [
    {
     "name": "stdout",
     "output_type": "stream",
     "text": [
      "question4: \n",
      "\n",
      "⎡0  0⎤\n",
      "⎢    ⎥\n",
      "⎣0  0⎦\n",
      "question4: \n",
      "\n",
      "⎡0  0⎤\n",
      "⎢    ⎥\n",
      "⎣0  0⎦\n"
     ]
    }
   ],
   "source": [
    "# a = a + trace(2*B+C) * I (2x2 grid)\n",
    "\n",
    "A = np.zeros((2,2))\n",
    "\n",
    "B = [[1,-1,0],\n",
    "     [1.5,0,-4],\n",
    "     [0,0,0]]\n",
    "\n",
    "C = [[-2,2,0],\n",
    "     [-3,0,8],\n",
    "     [0,0,0]]\n",
    "\n",
    "# identity matrix 2x2\n",
    "I = np.eye(2)\n",
    "for i in range(2):\n",
    "    \n",
    "     BC = 2*sp.Matrix(B)+sp.Matrix(C) \n",
    "\n",
    "     trace = sp.trace(BC)\n",
    "\n",
    "     A = sp.Matrix(A) + trace*sp.Matrix(I)\n",
    "\n",
    "     print(\"question4: \\n\")\n",
    "     sp.pprint(A)"
   ]
  },
  {
   "cell_type": "markdown",
   "metadata": {},
   "source": [
    "# Task 3\n",
    "the pixel intensities of a smal part of an image will be stored in the matrix\n",
    "A = ([1,1/3,1,-2,3],[alpha, 0, 0, 1],[beta, 0, 1, 0], [gamma, 1, 0, 0])\n",
    "transform a to become diagonal and easier to opearte with\n",
    "thetransformer algorithm computes as T(A) = A^transpode - A + I(4x4)\n",
    "\n",
    "find values of alpha,beta,gamma so that T(A) is diagonal"
   ]
  },
  {
   "cell_type": "code",
   "execution_count": 14,
   "metadata": {},
   "outputs": [
    {
     "name": "stdout",
     "output_type": "stream",
     "text": [
      "question5: \n",
      "\n",
      "[[ 1.         -0.33333333 -1.          0.66666667] \n",
      " [ 0.33333333  1.          0.          0.        ] \n",
      " [ 1.          0.          1.          0.        ] \n",
      " [-0.66666667  0.          0.          1.        ]]\n",
      "\n",
      " Alpha = +1/3, \n",
      " Beta = 1, \n",
      " Gamma = -2/3\n"
     ]
    }
   ],
   "source": [
    "alpha = 0\n",
    "beta = 0 \n",
    "gamma = 0\n",
    "A = np.array([[1,1/3,1,-(2/3)],[alpha, 0, 0, 1],[beta,0,1,0],[gamma,1,0,0]])\n",
    "Atrans = np.transpose(A)\n",
    "I = np.eye(4)\n",
    "\n",
    "transformA = Atrans - A + I\n",
    "alpha = \"+1/3\"\n",
    "beta = \"1\"\n",
    "gamma = \"-2/3\"\n",
    "print(\"question5: \\n\")\n",
    "sp.pprint(transformA)\n",
    "print(f\"\\n Alpha = {alpha}, \\n Beta = {beta}, \\n Gamma = {gamma}\")"
   ]
  },
  {
   "cell_type": "markdown",
   "metadata": {},
   "source": [
    "# task D\n"
   ]
  },
  {
   "cell_type": "code",
   "execution_count": 15,
   "metadata": {},
   "outputs": [
    {
     "name": "stdout",
     "output_type": "stream",
     "text": [
      "question6: \n",
      "\n",
      "The value of the expression is 3\n"
     ]
    }
   ],
   "source": [
    "x = 0\n",
    "y = 0\n",
    "z = 0\n",
    "A = np.array([[-1,-x*1j,-y*1j],[x*1j,2,-z*1j],[y*1j,-z*1j,-1]])\n",
    "AT = np.transpose(A)\n",
    "I = np.eye(3)\n",
    "\n",
    "# Convert numpy arrays to sympy matrices\n",
    "A_matrix = sp.Matrix(A)\n",
    "AT_matrix = sp.Matrix(AT)\n",
    "I_matrix = sp.Matrix(I)\n",
    "\n",
    "transformA = 1j * sp.trace(A_matrix + AT_matrix - 1j * I_matrix)\n",
    "print(\"question6: \\n\")\n",
    "\n",
    "if round(sp.re(transformA)) == 3:\n",
    "    print(f\"The value of the expression is {round(transformA)}\")\n",
    "else:\n",
    "    print(f\"The value of the expression is wrong\")\n",
    "    \n",
    "\n",
    "\n",
    "\n",
    "\n",
    "\n"
   ]
  }
 ],
 "metadata": {
  "kernelspec": {
   "display_name": "Python 3",
   "language": "python",
   "name": "python3"
  },
  "language_info": {
   "codemirror_mode": {
    "name": "ipython",
    "version": 3
   },
   "file_extension": ".py",
   "mimetype": "text/x-python",
   "name": "python",
   "nbconvert_exporter": "python",
   "pygments_lexer": "ipython3",
   "version": "3.12.6"
  }
 },
 "nbformat": 4,
 "nbformat_minor": 2
}

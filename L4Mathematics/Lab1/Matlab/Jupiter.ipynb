{
 "cells": [
  {
   "cell_type": "markdown",
   "metadata": {},
   "source": [
    "# Library"
   ]
  },
  {
   "cell_type": "code",
   "execution_count": null,
   "metadata": {},
   "outputs": [],
   "source": [
    "import numpy as np\n",
    "import matplotlib.pyplot as plt"
   ]
  },
  {
   "cell_type": "code",
   "execution_count": null,
   "metadata": {},
   "outputs": [],
   "source": [
    "# Variables\n",
    "array = []"
   ]
  },
  {
   "cell_type": "code",
   "execution_count": null,
   "metadata": {},
   "outputs": [],
   "source": [
    "#Function'\n",
    "def sum_of_random_integers():\n",
    "    for i in range(6):\n",
    "        integer_random = np.random.randint(50)\n",
    "        print(integer_random)\n",
    "        # Add random number to the list\n",
    "        array.append(integer_random)\n",
    "        # Calculate the sum of the list\n",
    "        total_sum = sum(array)\n",
    "        # Print the sum of the list\n",
    "        print(total_sum)\n",
    "        # Plot the random integers\n",
    "        plt.plot(integer_random, 'ro')\n",
    "sum_of_random_integers()"
   ]
  }
 ],
 "metadata": {
  "kernelspec": {
   "display_name": "Python 3",
   "language": "python",
   "name": "python3"
  },
  "language_info": {
   "name": "python",
   "version": "3.12.6"
  }
 },
 "nbformat": 4,
 "nbformat_minor": 2
}

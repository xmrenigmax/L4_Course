{
 "cells": [
  {
   "cell_type": "code",
   "execution_count": 175,
   "metadata": {},
   "outputs": [],
   "source": [
    "import math\n",
    "import matplotlib as mpl\n",
    "import matplotlib.pyplot as plt\n",
    "import numpy as np\n",
    "import sympy as sp"
   ]
  },
  {
   "cell_type": "code",
   "execution_count": 176,
   "metadata": {},
   "outputs": [],
   "source": [
    "def taska():\n",
    "    # matrix dot product + hadamard product\n",
    "    A = np.array([[1,1],[0,2],[0,1]])\n",
    "    B = np.eye(3)*-1\n",
    "    C = np.array([[0,1,0,1],[0,1,0,1]])\n",
    "    D = np.array([-1,-1,-1])\n",
    "\n",
    "    a1 = (lambda: (D@B@np.transpose(D)))\n",
    "    a2 = (lambda: (B@B))\n",
    "    a3 = (lambda: (np.transpose(A) @ B))  # Use dot product instead of hadamard product\n",
    "    a4 = (lambda: (A @ B))\n",
    "    a5 = (lambda: (np.transpose(A @ C)@np.transpose(B))) # result isnt computable\n",
    "    a6 = (lambda: ((np.transpose(A) @ A) + (1/3) * (np.trace(np.power(B,4))) * (np.transpose(A)) @ (A) @ (C) @ (np.transpose(C)) + (np.eye(2))))\n",
    "    #sp.pprint(a1())\n",
    "    #sp.pprint(a2())\n",
    "    #sp.pprint(a3())\n",
    "    #sp.pprint(\"a4(), return an error\" )\n",
    "    #sp.pprint(a5())\n",
    "    #sp.pprint(a6())\n",
    "taska()"
   ]
  },
  {
   "cell_type": "code",
   "execution_count": 177,
   "metadata": {},
   "outputs": [
    {
     "name": "stdout",
     "output_type": "stream",
     "text": [
      "1.0\n",
      "[[ 1.+0.j  0.+0.j  0.+0.j] \n",
      " [-0.+0.j  1.+0.j  0.+0.j] \n",
      " [ 0.+0.j  0.+0.j  1.+0.j]]\n"
     ]
    }
   ],
   "source": [
    "def taskb():\n",
    "    # matrix dot product + hadamard product\n",
    "    A = np.array([[-1, -1j, 0],[1j,2,0],[0,0,-1]])\n",
    "    B = np.array([[-1,0,0],[0,0.5,0],[0,0,-1]])\n",
    "    C = np.array([[-1,0,0],[0,2,0]])\n",
    "    AH = np.conjugate(np.transpose(A))\n",
    "    CT = np.transpose(C)\n",
    "    b2 = (lambda: (AH* B * np.trace(C @ B @ CT)))\n",
    "    sp.pprint(np.trace(C @ B @ CT))\n",
    "    sp.pprint(b2())\n",
    "\n",
    "taskb()"
   ]
  }
 ],
 "metadata": {
  "kernelspec": {
   "display_name": "Python 3",
   "language": "python",
   "name": "python3"
  },
  "language_info": {
   "codemirror_mode": {
    "name": "ipython",
    "version": 3
   },
   "file_extension": ".py",
   "mimetype": "text/x-python",
   "name": "python",
   "nbconvert_exporter": "python",
   "pygments_lexer": "ipython3",
   "version": "3.12.6"
  }
 },
 "nbformat": 4,
 "nbformat_minor": 2
}

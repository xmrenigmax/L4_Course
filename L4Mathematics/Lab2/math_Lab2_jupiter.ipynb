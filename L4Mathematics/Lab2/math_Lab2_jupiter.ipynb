{
 "cells": [
  {
   "cell_type": "markdown",
   "metadata": {},
   "source": [
    "\n",
    "# Import"
   ]
  },
  {
   "cell_type": "code",
   "execution_count": null,
   "metadata": {},
   "outputs": [],
   "source": [
    "import math\n",
    "import numpy as np\n",
    "import matplotlib.pyplot as plt\n",
    "import matplotlib as mpl"
   ]
  },
  {
   "cell_type": "code",
   "execution_count": null,
   "metadata": {},
   "outputs": [],
   "source": [
    "z = 1 +2j"
   ]
  },
  {
   "cell_type": "markdown",
   "metadata": {},
   "source": [
    "# Complex in 2D plane"
   ]
  },
  {
   "cell_type": "code",
   "execution_count": null,
   "metadata": {},
   "outputs": [],
   "source": [
    "def complex_2d_plane():\n",
    "    # Print the real and imaginary parts\n",
    "    # z.real displays the real part of the complex number\n",
    "    # z.imag displays the imaginary part of the complex number\n",
    "    # ro is the color red and the marker is a circle\n",
    "    plt.plot(z.real, z.imag, \"ro\",markersize=12)\n",
    "\n",
    "    # Add a text next to the point\n",
    "    plt.text(z.real, (z.imag+0.1*z.imag),\"z\")\n",
    "\n",
    "    # adds an axes to the figure and a grid\n",
    "    x_axis_label = \"Real\" ; y_axis_label = \"Imaginary\"\n",
    "    x_axis_label(x_axis_label);plt.ylabel(y_axis_label)\n",
    "    plt.grid()\n",
    "    # Display the plot in python but uselss in jupyter\n",
    "    plt.show()"
   ]
  },
  {
   "cell_type": "code",
   "execution_count": null,
   "metadata": {},
   "outputs": [],
   "source": [
    "def call_functions():\n",
    "    complex_2d_plane()\n",
    "call_functions()"
   ]
  }
 ],
 "metadata": {
  "kernelspec": {
   "display_name": "Python 3",
   "language": "python",
   "name": "python3"
  },
  "language_info": {
   "name": "python",
   "version": "3.12.6"
  }
 },
 "nbformat": 4,
 "nbformat_minor": 2
}

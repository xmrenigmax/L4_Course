{
 "cells": [
  {
   "cell_type": "markdown",
   "metadata": {},
   "source": [
    "# Import"
   ]
  },
  {
   "cell_type": "code",
   "execution_count": 5,
   "metadata": {},
   "outputs": [],
   "source": [
    "import matplotlib.pyplot as plt\n",
    "import numpy as np\n",
    "import matplotlib as mpl\n",
    "import math"
   ]
  },
  {
   "cell_type": "markdown",
   "metadata": {},
   "source": [
    "# example code"
   ]
  },
  {
   "cell_type": "code",
   "execution_count": 6,
   "metadata": {},
   "outputs": [],
   "source": [
    "def exammple():\n",
    "    mpl.rcParams['font.size'] = 14\n",
    "    # Generate x values from 0 to 100000000000 (10 zeros) and 1000 steps\n",
    "    # linspace is a function that generates a list of values between two limits\n",
    "    x = np.linspace(0, 1e10, 10000)\n",
    "    y_num = x + 1\n",
    "    # Generate y values for the denominator \n",
    "    # 1e6 is 10^6\n",
    "    y_den = x + 1e6\n",
    "    y = y_num / y_den\n",
    "    plt.plot(x, y_num, 'b-')  # Plot lines\n",
    "    plt.plot(x, y_den, 'r--')\n",
    "    plt.plot(x, y, 'g--')\n",
    "    # Display the legend. Labels between the $ signs are in latex. The \"r\" prefix indicates Python to expect latex language for the legend text\n",
    "    #. The legend is displayed in the upper right corner \n",
    "    # the legend is the label of the plot\n",
    "    plt.legend([r'$x+1$', r'$x+10^6$', r'$\\frac{x+1}{x+10^6}$'])\n",
    "    # Display the axis labels\n",
    "    plt.xlabel('x')\n",
    "    plt.ylabel('y')\n",
    "    # #For very large values, numerator and #denominator are identical!\n",
    "    # #The head-start 10^6 in the denominator#has no consequences in the limi"
   ]
  },
  {
   "cell_type": "markdown",
   "metadata": {},
   "source": [
    "# Exercise 1.2 Limits"
   ]
  },
  {
   "cell_type": "code",
   "execution_count": 7,
   "metadata": {},
   "outputs": [],
   "source": [
    "def exercise_1_2_a():\n",
    "    mpl.rcParams['font.size'] = 14\n",
    "    a = np.linspace(1, 1e-5, 1000)\n",
    "    # Ensure y_numerator has the same shape as a\n",
    "    a_y_numerator = np.full_like(a, 1e-10)\n",
    "    a_y_denominator = a**2\n",
    "    y = a_y_numerator / a_y_denominator\n",
    "    plt.plot(a, a_y_numerator, 'bo')\n",
    "    plt.plot(a, a_y_denominator, 'r--')\n",
    "    plt.plot(a, y, 'g--')\n",
    "    plt.legend([r'$10^{-10}$', r'$x^2$', r'$\\frac{10^{-10}}{x^2}$'])\n",
    "    plt.xlabel('x')\n",
    "    plt.ylabel('y')\n",
    "\n",
    "#exercise_1_2_a()\n",
    "\n",
    "def exercise_1_2_b():\n",
    "    mpl.rcParams['font.size'] = 14\n",
    "    # Generate x values from -1.1 to -1e-10 and 1000 steps\n",
    "    # -1-1e-10 = -1.0000000001 = the range from -1.1 to -1.0000000001\n",
    "    # 10000 = the number of steps between -1.1 and -1.0000000001\n",
    "    #b = np.linspace(-1.1, -1-1e-10, 10000)\n",
    "    b = np.linspace(-1-1e-5, -1-1e-10, 10000)\n",
    "    b_y_numerator = ((7*(b**2)) + (14*b) + 7) \n",
    "    b_y_denominator = b + 1  \n",
    "    y = b_y_numerator / b_y_denominator\n",
    "    plt.plot(b, b_y_numerator, 'bo')\n",
    "    plt.plot(b, b_y_denominator, 'r--')\n",
    "    plt.plot(b, y, 'g--')\n",
    "    plt.legend([r'$10^{-10}$', r'$x^3$', r'$\\frac{10^{-10}}{x^3}$'])\n",
    "    plt.xlabel('x')\n",
    "    plt.ylabel('y')\n",
    "    \n",
    "#exercise_1_2_b()\n",
    "\n",
    "def exercise_1_2_c():\n",
    "    mpl.rcParams['font.size'] = 14\n",
    "    # as x gets larger, use values of c from 0 to 50\n",
    "    c = np.linspace(0, 10, 1000)\n",
    "    c_y_numerator = 2 * (np.exp(c))\n",
    "    c_y_denominator = (10 * (c ** 4) + (2 * c) + 2)\n",
    "    y = c_y_numerator / c_y_denominator\n",
    "    plt.plot(c, c_y_numerator, 'bo')\n",
    "    plt.plot(c, c_y_denominator, 'r--')\n",
    "    plt.plot(c, y, 'g--')\n",
    "    plt.legend([r'$2e^{x}$', r'$10x^{4}$', r'$\\frac{2e^{x}}{10x^{4}]}$'])\n",
    "    plt.xlabel('x')\n",
    "    plt.ylabel('y')\n",
    "    #plt.yscale('log')\n",
    "\n",
    "#exercise_1_2_c()\n",
    "\n",
    "def exercise_1_2_d():\n",
    "    mpl.rcParams['font.size'] = 14\n",
    "    # as x gets larger, use values of d from 140 to 141\n",
    "    d = np.linspace(0, 50, 10000)\n",
    "    d_y_numerator = (10*(np.exp(5*d))-(2*(np.exp(-2*d)))+np.exp(-d))\n",
    "    d_y_denominator = (5*(np.exp(5*d))+(np.exp(-2*d)))\n",
    "    y = d_y_numerator / d_y_denominator\n",
    "    plt.plot(d, d_y_numerator, 'bo')\n",
    "    plt.plot(d, d_y_denominator, 'r--')\n",
    "    plt.plot(d, y, 'g--')\n",
    "    plt.legend([r'$10e^{5x}-2e^{-2x}+e^{-x}$', r'$5e^{5x}+e^{-2x}$', r'$\\frac{10e^{5x}-2e^{-2x}+e^{-x}}{5e^{5x}+e^{-2x}}$'])\n",
    "    plt.xlabel('x')\n",
    "    plt.ylabel('y')\n",
    "    #plt.yscale('log')\n",
    "\n",
    "#exercise_1_2_d()\n",
    "\n",
    "def exercise_1_2_e():\n",
    "    mpl.rcParams['font.size'] = 14\n",
    "    # as x gets larger, check both x>1 values and x<1 values\n",
    "    # try values to right from 1 from 1.00001 to 1.1\n",
    "    # x = np.linspace(1.00001, 1.1, 1000)\n",
    "    # try values to left from 1 from 0.999 to 0.9999999\n",
    "    #x = np.linspace(0.999, 0.9999999, 1000)\n",
    "    x = np.linspace(0.999, 1.001, 1000)\n",
    "\n",
    "    e_y_numerator = x\n",
    "\n",
    "    e_y_denominator = (2*(x**2))+(2*x)-4\n",
    "    y = e_y_numerator / e_y_denominator\n",
    "    plt.plot(x, e_y_numerator, 'bo')\n",
    "    plt.plot(x, e_y_denominator, 'r--')\n",
    "    plt.plot(x, y, 'g--')\n",
    "    plt.legend([r'$10^{-10}$', r'$x^2$', r'$\\frac{10^{-10}}{x^2}$'])\n",
    "    plt.xlabel('x')\n",
    "    plt.ylabel('y')\n",
    "#exercise_1_2_e()\n"
   ]
  },
  {
   "cell_type": "code",
   "execution_count": 8,
   "metadata": {},
   "outputs": [
    {
     "data": {
      "image/png": "[encoded data removed]",
      "text/plain": [
       "<Figure size 640x480 with 1 Axes>"
      ]
     },
     "metadata": {},
     "output_type": "display_data"
    }
   ],
   "source": [
    "def exponential():\n",
    "    x = np.linspace(0, 5, 1000)\n",
    "    y = np.exp(x)\n",
    "    plt.plot(x, y , 'bo')\n",
    "    plt.plot(x, x**2, 'g--')\n",
    "    plt.plot(x, x, 'r--')\n",
    "    plt.legend([r'$y=e^x$', r'$y=x^2$', r'$y=x$'])\n",
    "    plt.xlabel('x')\n",
    "    plt.ylabel('y')\n",
    "\n",
    "exponential()\n",
    "\n",
    "def logarithmic():\n",
    "    x = np.linspace(1, 100, 1000)\n",
    "    y = np.log(x)\n",
    "    plt.plot(x, y , 'bo')\n",
    "    plt.plot(x, x**2, 'g--')\n",
    "    plt.plot(x, x, 'r--')\n",
    "    plt.legend([r'$y=\\log(x)$', r'$y=x^2$', r'$y=x$'])\n",
    "    plt.xlabel('x')\n",
    "    plt.ylabel('y')\n",
    "\n",
    "logarithmic()\n",
    "   "
   ]
  }
 ],
 "metadata": {
  "kernelspec": {
   "display_name": "Python 3",
   "language": "python",
   "name": "python3"
  },
  "language_info": {
   "codemirror_mode": {
    "name": "ipython",
    "version": 3
   },
   "file_extension": ".py",
   "mimetype": "text/x-python",
   "name": "python",
   "nbconvert_exporter": "python",
   "pygments_lexer": "ipython3",
   "version": "3.12.6"
  }
 },
 "nbformat": 4,
 "nbformat_minor": 2
}

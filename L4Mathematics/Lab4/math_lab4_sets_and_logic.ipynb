{
 "cells": [
  {
   "cell_type": "markdown",
   "metadata": {},
   "source": [
    "# import"
   ]
  },
  {
   "cell_type": "code",
   "execution_count": 6,
   "metadata": {},
   "outputs": [
    {
     "name": "stdout",
     "output_type": "stream",
     "text": [
      "A = {1, 2}\n",
      "B = {3, 4}\n",
      "AUB = {1, 2, 3, 4}\n",
      "A∩B = set()\n",
      "A\\B = {1, 2}\n",
      "A subset of B= False\n",
      "A subset of C= True\n"
     ]
    },
    {
     "name": "stderr",
     "output_type": "stream",
     "text": [
      "<>:7: SyntaxWarning: invalid escape sequence '\\B'\n",
      "<>:7: SyntaxWarning: invalid escape sequence '\\B'\n",
      "C:\\Users\\riley\\AppData\\Local\\Temp\\ipykernel_27188\\3535862426.py:7: SyntaxWarning: invalid escape sequence '\\B'\n",
      "  print('A\\B =', A.difference(B))\n"
     ]
    }
   ],
   "source": [
    "A = {1,2}; print ('A =', A)\n",
    "B = {3,4}; print ('B =', B)\n",
    "C = set()\n",
    "# union, intersection, relative complement, \n",
    "print('AUB =', A.union(B))\n",
    "print('A∩B =', A.intersection(B))\n",
    "print('A\\B =', A.difference(B))\n",
    "# Subsets\n",
    "print('A subset of B=', A.issubset(B))\n",
    "print('A subset of C=', A.issubset(A.union(C)))"
   ]
  }
 ],
 "metadata": {
  "kernelspec": {
   "display_name": "Python 3",
   "language": "python",
   "name": "python3"
  },
  "language_info": {
   "codemirror_mode": {
    "name": "ipython",
    "version": 3
   },
   "file_extension": ".py",
   "mimetype": "text/x-python",
   "name": "python",
   "nbconvert_exporter": "python",
   "pygments_lexer": "ipython3",
   "version": "3.12.6"
  }
 },
 "nbformat": 4,
 "nbformat_minor": 2
}

{
 "cells": [
  {
   "cell_type": "markdown",
   "metadata": {},
   "source": [
    "# import"
   ]
  },
  {
   "cell_type": "code",
   "execution_count": 143,
   "metadata": {},
   "outputs": [],
   "source": [
    "import numpy as np\n",
    "import math"
   ]
  },
  {
   "cell_type": "markdown",
   "metadata": {},
   "source": [
    "# code"
   ]
  },
  {
   "cell_type": "code",
   "execution_count": 144,
   "metadata": {},
   "outputs": [],
   "source": [
    "def sets_exercises():\n",
    "    # universal set of natural numbers <11 \n",
    "    U = {1,2,3,4,5,6,7,8,9,10}\n",
    "\n",
    "    # subsets of U\n",
    "    A = {1,2,3,4,5}\n",
    "    B = {1,3,5,7,9}\n",
    "    C = {3,4,8,9}\n",
    "    D = {2,4,6,8}\n",
    "    E = {3,5}\n",
    "\n",
    "    # Intersection\n",
    "    print('A∩B=', A.intersection(B))\n",
    "    print('B∩C=', B.intersection(C))\n",
    "    print('B∩D=', B.intersection(D))\n",
    "    print('U∩C=', U.intersection(E))\n",
    "\n",
    "    # Union\n",
    "    print('AUB=', A.union(B))\n",
    "    print('AUC=', B.union(C))\n",
    "    print('BUC=', B.union(D))\n",
    "    print('UUA=', U.union(E))\n",
    "\n",
    "    # Relative complement\n",
    "    print(r'D\\A=', D.difference(A))\n",
    "    print(r'C\\B=', C.difference(B))\n",
    "    print(r'A\\C=', A.difference(C))\n",
    "    print(r'U\\B=', U.difference(B))\n",
    "\n",
    "    # Absolute complement\n",
    "    print('A^c=' , U.difference(A))\n",
    "    print('B^c=' , U.difference(B))\n",
    "    print('C^c=' , U.difference(C))\n",
    "\n",
    "    # Power set\n",
    "    print('P(U)=', U)\n",
    "    print('P(A)=', A)\n",
    "    print('P(E)=', E)\n",
    "\n",
    "\n"
   ]
  },
  {
   "cell_type": "markdown",
   "metadata": {},
   "source": [
    "# Sets Exercise with limits"
   ]
  },
  {
   "cell_type": "code",
   "execution_count": 145,
   "metadata": {},
   "outputs": [
    {
     "name": "stdout",
     "output_type": "stream",
     "text": [
      "P(S)= []\n",
      "P(S)= [0.]\n",
      "P(S)= [ 0. inf]\n"
     ]
    },
    {
     "data": {
      "text/plain": [
       "True"
      ]
     },
     "execution_count": 145,
     "metadata": {},
     "output_type": "execute_result"
    }
   ],
   "source": [
    "# what set is S = {{b,c} U {d,e} n {0,+inifinity,e^ln(-j)}}\n",
    "def limitSets():\n",
    "    B = 0\n",
    "    C = math.inf\n",
    "    D = 2\n",
    "    E = -math.inf\n",
    "\n",
    "    part1 = {B,C}.union({D,E})\n",
    "    S = part1.intersection({0, math.inf, np.exp(np.log(-1j))}) \n",
    "    #print(part1)\n",
    "\n",
    "    # powerset of S\n",
    "    for i in range(0, len(S)+1):\n",
    "        print('P(S)=', np.random.choice(list(S), i))\n",
    "        X = np.random.choice(list(S), i)\n",
    "\n",
    "    # logical problem (!p X q) == p\n",
    "    p1 = S.intersection({2j}) \n",
    "    p = p1 == set()\n",
    "    q1 = S.difference({0}).intersection(X)\n",
    "    q = True\n",
    "\n",
    "    if not p ^ q == p: # ^ is XOR\n",
    "        return True\n",
    "    else:\n",
    "        return False\n",
    "limitSets()\n",
    "\n"
   ]
  },
  {
   "cell_type": "code",
   "execution_count": null,
   "metadata": {},
   "outputs": [],
   "source": []
  }
 ],
 "metadata": {
  "kernelspec": {
   "display_name": "Python 3",
   "language": "python",
   "name": "python3"
  },
  "language_info": {
   "codemirror_mode": {
    "name": "ipython",
    "version": 3
   },
   "file_extension": ".py",
   "mimetype": "text/x-python",
   "name": "python",
   "nbconvert_exporter": "python",
   "pygments_lexer": "ipython3",
   "version": "3.12.6"
  }
 },
 "nbformat": 4,
 "nbformat_minor": 2
}

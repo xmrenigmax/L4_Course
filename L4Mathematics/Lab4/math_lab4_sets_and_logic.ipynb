{
 "cells": [
  {
   "cell_type": "markdown",
   "metadata": {},
   "source": [
    "# import"
   ]
  },
  {
   "cell_type": "markdown",
   "metadata": {},
   "source": [
    "# code"
   ]
  },
  {
   "cell_type": "code",
   "execution_count": 11,
   "metadata": {},
   "outputs": [
    {
     "name": "stdout",
     "output_type": "stream",
     "text": [
      "help\n",
      "A∩B= {1, 3, 5}\n",
      "B∩C= {9, 3}\n",
      "B∩D= set()\n",
      "U∩C= {3, 5}\n",
      "AUB= {1, 2, 3, 4, 5, 7, 9}\n",
      "AUC= {1, 3, 4, 5, 7, 8, 9}\n",
      "BUC= {1, 2, 3, 4, 5, 6, 7, 8, 9}\n",
      "UUA= {1, 2, 3, 4, 5, 6, 7, 8, 9, 10}\n",
      "D\\A= {8, 6}\n",
      "C\\B= {8, 4}\n",
      "A\\C= {1, 2, 5}\n",
      "U\\B= {2, 4, 6, 8, 10}\n",
      "A^c= {6, 7, 8, 9, 10}\n",
      "B^c= {2, 4, 6, 8, 10}\n",
      "C^c= {1, 2, 5, 6, 7, 10}\n",
      "A= True\n"
     ]
    },
    {
     "name": "stderr",
     "output_type": "stream",
     "text": [
      "<>:26: SyntaxWarning: invalid escape sequence '\\A'\n",
      "<>:27: SyntaxWarning: invalid escape sequence '\\B'\n",
      "<>:28: SyntaxWarning: invalid escape sequence '\\C'\n",
      "<>:29: SyntaxWarning: invalid escape sequence '\\B'\n",
      "<>:26: SyntaxWarning: invalid escape sequence '\\A'\n",
      "<>:27: SyntaxWarning: invalid escape sequence '\\B'\n",
      "<>:28: SyntaxWarning: invalid escape sequence '\\C'\n",
      "<>:29: SyntaxWarning: invalid escape sequence '\\B'\n",
      "C:\\Users\\riley\\AppData\\Local\\Temp\\ipykernel_18156\\2248839350.py:26: SyntaxWarning: invalid escape sequence '\\A'\n",
      "  print('D\\A=', D.difference(A))\n",
      "C:\\Users\\riley\\AppData\\Local\\Temp\\ipykernel_18156\\2248839350.py:27: SyntaxWarning: invalid escape sequence '\\B'\n",
      "  print('C\\B=', C.difference(B))\n",
      "C:\\Users\\riley\\AppData\\Local\\Temp\\ipykernel_18156\\2248839350.py:28: SyntaxWarning: invalid escape sequence '\\C'\n",
      "  print('A\\C=', A.difference(C))\n",
      "C:\\Users\\riley\\AppData\\Local\\Temp\\ipykernel_18156\\2248839350.py:29: SyntaxWarning: invalid escape sequence '\\B'\n",
      "  print('U\\B=', U.difference(B))\n"
     ]
    }
   ],
   "source": [
    "def sets_exercises():\n",
    "    #universal set of natural numbers <11 \n",
    "    print(\"help\")\n",
    "    U = {1,2,3,4,5,6,7,8,9,10}\n",
    "\n",
    "    # subsets of U\n",
    "    A = {1,2,3,4,5}\n",
    "    B = {1,3,5,7,9}\n",
    "    C = {3,4,8,9}\n",
    "    D = {2,4,6,8}\n",
    "    E = {3,5}\n",
    "\n",
    "    # intersection \n",
    "    print('A∩B=', A.intersection(B))\n",
    "    print('B∩C=', B.intersection(C))\n",
    "    print('B∩D=', B.intersection(D))\n",
    "    print('U∩C=', U.intersection(E))\n",
    "\n",
    "    # Union\n",
    "    print('AUB=', A.union(B))\n",
    "    print('AUC=', B.union(C))\n",
    "    print('BUC=', B.union(D))\n",
    "    print('UUA=', U.union(E))\n",
    "\n",
    "    # Relative complement\n",
    "    print('D\\A=', D.difference(A))\n",
    "    print('C\\B=', C.difference(B))\n",
    "    print('A\\C=', A.difference(C))\n",
    "    print('U\\B=', U.difference(B))\n",
    "\n",
    "    # Absolute complement\n",
    "    print('A^c=' , U.difference(A))\n",
    "    print('B^c=' , U.difference(B))\n",
    "    print('C^c=' , U.difference(C))\n",
    "\n",
    "    # Power set\n",
    "    print('A=', A.issubset(U))\n",
    "\n",
    "sets_exercises()\n",
    "\n"
   ]
  }
 ],
 "metadata": {
  "kernelspec": {
   "display_name": "Python 3",
   "language": "python",
   "name": "python3"
  },
  "language_info": {
   "codemirror_mode": {
    "name": "ipython",
    "version": 3
   },
   "file_extension": ".py",
   "mimetype": "text/x-python",
   "name": "python",
   "nbconvert_exporter": "python",
   "pygments_lexer": "ipython3",
   "version": "3.12.6"
  }
 },
 "nbformat": 4,
 "nbformat_minor": 2
}

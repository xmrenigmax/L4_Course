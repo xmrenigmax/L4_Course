{
 "cells": [
  {
   "cell_type": "markdown",
   "metadata": {},
   "source": [
    "# import"
   ]
  },
  {
   "cell_type": "code",
   "execution_count": 20,
   "metadata": {},
   "outputs": [],
   "source": [
    "import math\n",
    "import numpy as np\n",
    "import matplotlib as mpl\n",
    "import matplotlib.pyplot as plt\n",
    "from mpl_toolkits.mplot3d import axes3d"
   ]
  },
  {
   "cell_type": "markdown",
   "metadata": {},
   "source": [
    "# TaskA\n",
    "the area of the space available to insert a video in our webpage is given by three vectors {u = (4,2), v = (-1,0),w} where W is a 2D vector that links u with v"
   ]
  },
  {
   "cell_type": "code",
   "execution_count": null,
   "metadata": {},
   "outputs": [
    {
     "name": "stdout",
     "output_type": "stream",
     "text": [
      "The angle between u and v is:  153.434948822922\n"
     ]
    }
   ],
   "source": [
    "# calculating the angle between all 3 vectors\n",
    "def TaskA():\n",
    "    u = np.array([4,2])\n",
    "    v = np.array([-1,0])\n",
    "    # w vector is the link betweeen u vector and v vector\n",
    "    w = np.array([-5,-2])\n",
    "\n",
    "    # calculating if its independent of eachother\n",
    "    ## as its a 2D space, there are 2 independent vectors\n",
    "    \n",
    "    # Method 1 : determinant of the matrix == 0 (dependent) != 0 (independent)\n",
    "    ## np.column_stack((u,v)) == np.column_stack((v,u))\n",
    "    ## determinant = np.linalg.det(np.column_stack((u,v)))\n",
    "    #return not np.isclose(determinant,0)\n",
    "\n",
    "    # Method 2: angle between the vectors == 90 degrees (independent) != 90 degrees (dependent)\n",
    "\n",
    "    # Method 3: if the vectors alpha * u + beta * v == 0 (dependent) != 0 (independent)\n",
    "    \n",
    "\n",
    "\n",
    "TaskA()\n"
   ]
  }
 ],
 "metadata": {
  "kernelspec": {
   "display_name": "Python 3",
   "language": "python",
   "name": "python3"
  },
  "language_info": {
   "codemirror_mode": {
    "name": "ipython",
    "version": 3
   },
   "file_extension": ".py",
   "mimetype": "text/x-python",
   "name": "python",
   "nbconvert_exporter": "python",
   "pygments_lexer": "ipython3",
   "version": "3.12.6"
  }
 },
 "nbformat": 4,
 "nbformat_minor": 2
}
